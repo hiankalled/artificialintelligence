{
 "cells": [
  {
   "cell_type": "markdown",
   "metadata": {},
   "source": [
    "# Redes Neurais Artificiais\n",
    "\n",
    "Para concluir nosso estudo de aprendizagem de máquina, vamos falar um pouco sobre as redes neurais. Uma rede neural é um modelo de predição bastante utilizado para as mais diversas tarefas de aprendizagem. \n",
    "\n",
    "As redes neurais vem de um desejo de criar máquinas que de alguma forma \"imitem\" o comportamento humano. Melhor ainda, \"imitar\" um comportamento que ocorre de forma natural no cérebro humano. Nós humanos conseguimos realizar tarefas que para nós são simples e imediatas, mas que ao passa-las para uma máquina não se tornam tão simples. O desenvolvimento das redes neurais parte  do princípio de construir um mecanismo que possa de alguma forma executar as tarefas realizadas pelo cérebro humano. Para entender como as redes neurais funcionado é preciso entender como funciona o sistema nervoso humano. "
   ]
  },
  {
   "cell_type": "markdown",
   "metadata": {},
   "source": [
    "## O sistema nervoso humano\n",
    "\n",
    "A imagem a seguir mostra o principal componente do sistema nervoso humano: os neurônios. É através deles que o cérebro transmite e processa a gama de informações que capturamos. A estrutura complexa do cérebro faz tarefas extramamente complexas parecerem triviais. \n",
    "\n",
    "<img src=\"https://dl.dropboxusercontent.com/u/25405260/d2l/material_ia/redesneurais_neuronio.png\">\n",
    "\n",
    "Para entender um pouco de como o neorônio acesse: [https://www.youtube.com/watch?v=r8D16C6-D5M](https://www.youtube.com/watch?v=r8D16C6-D5M)\n",
    "\n"
   ]
  },
  {
   "cell_type": "markdown",
   "metadata": {},
   "source": [
    "## Redes Neurais Artificiais (RNA)\n",
    "\n",
    "\"As RNAs são sistemas computacionais distribuídos compostos de unidades de processamento simples, densamente interconectadas. Essas unidades, conhecidas como neurônios artificiais, computam funções matemáticas. As unidades são dispostas em uma ou mais camadas e interligadas por um grade número de conexões, geralmente unidirecionais. Na maioria das arquiteturas, essas conexões, que simulam as sinapses biológicas, possuem pesos associados, que ponderam a entrada recebida por cada neurônio da rede. Os pesos podem assumir valores positivos ou negativos, dependendo de o comportamento da conexão ser excitatório ou inibitório, respectivamente. Os pesos têm seus valores ajustados em um processo de aprendizado e codificam o conhecimento adquirido pela rede\".\n",
    "\n",
    "A imagem a seguir mostra a arquitetura de um neurônio artificial:\n",
    "\n",
    "<img src=\"https://dl.dropboxusercontent.com/u/25405260/d2l/material_ia/redesneurais_rna.png\">\n",
    "\n",
    "O neurônio com $d$ terminais (que simula os dendritos) recebe como entrada um objeto $x$ com $d$ atributos. Esse objeto é representado pelo vetor $x = [x_1, x_2, ..., x_d]^t$. Cada terminal do neurônio tem um peso $w$ associado. Estes pesos podem ser representados também por um vetor $w = [w_1, w_2, ..., w_d]$. A entrada total do neurônio é representada pela equação:\n",
    "\n",
    "$u = \\sum_{j=1}^{d}{x_j w_j}$\n",
    "\n",
    "A saída do neurônio é determinada pela aplicação de um função de ativação ($f_a$) à entrada total $u$:\n",
    "\n",
    "<img src=\"https://dl.dropboxusercontent.com/u/25405260/d2l/material_ia/redesneurais_fa.png\">\n",
    "\n",
    "Várias funções de ativações aparecem na literatura. A imagem a seguir mostra três dessas funções: (a) linear, (b) limiar e (c) sigmoidal:\n",
    "\n",
    "<img src=\"https://dl.dropboxusercontent.com/u/25405260/d2l/material_ia/redesneurais_funcoes.png\">\n",
    "\n",
    "A função linear identidade implica retornar como saída o valor de $u$. Na função limiar, o valor do limiar defini quando o resultado da função será igual a 1 ou 0. Quando a soma das entradas recebidas ultrapassa o limiar estabelecido, o neurônio torna-se ativo. Quanto maior o valor do limiar, maior tem que ser o valor da entrada total para que o valor de saída do neurônio seja igual a 1. Na função sigmoidal, diferentes inclinações podem ser utilizadas.\n",
    "\n",
    "Em uma rede neural, os neurônios podem está dispostos em mais de uma camada. Em uma arquitetura de várias camadas a saída de um neurônio é entrada para outro neurônio. A imagem a seguir mostra esse tipo de arquitetura: \n",
    "\n",
    "<img src=\"https://dl.dropboxusercontent.com/u/25405260/d2l/material_ia/redesneurais_multicamadas.png\">\n",
    "\n",
    "Alguns modelos de redes neurais permite a retroalimentação (ou *feedback*). Nesse tipo de redes é permitido que um neurônio receba como entrada as saídas geradas por camadas posteriores ou pela própria camada. Desta forma, podemos classificar as redes neurais em **RNA *feedfoward*** (sem retroalimentação) ou redes recorrentes (com retroalimentação).\n",
    "\n",
    "\n"
   ]
  },
  {
   "cell_type": "markdown",
   "metadata": {},
   "source": [
    "### Como se dá o aprendizado de uma rede neural?\n",
    "\n",
    "O processo de aprendizagem de uma rede neural se dá pelo ajustes dos pesos associados às entradas. De forma bem geral, os pesos são ajustados com a finalidade de minimizar o erro daquela rede. A literatura apresenta diversos algoritmos de treinamento de RNAs seguindo os paradigmas já discutidos de aprendizado por reforço, supervisionado e não-supervisionado. Um tipo de algoritmo bem utilizado para as tarefas de aprendizado supervisionado ajusta os pesos da RNA de forma a reduzir os erros cometidos pela rede.\n",
    "\n",
    "Vamos começar o nosso estudo de redes neurais a partir das redes *perceptron* e *adeline*. "
   ]
  },
  {
   "cell_type": "markdown",
   "metadata": {},
   "source": [
    "## Redes Perceptron e Adeline\n",
    "\n",
    "A rede perceptron foi a primeira rede a ser implementada ainda na década de 50. A arquitetura dessa rede é composta por uma camada e usa como função de ativação a *função de tipo limiar*. A rede é treinada por um algoritmo supervisionado de correção de erro. \n",
    "\n",
    "<img src=\"https://dl.dropboxusercontent.com/u/25405260/d2l/material_ia/redesneurais_arqperceptron.png\">\n",
    "\n",
    "Durante o treinamento, os pesos são ajustados de acordo com a seguinte equação: \n",
    "\n",
    "$w_j(t+1) = w_j(t) + \\eta x_i^j (y_i - \\hat{f}(x_i))$, onde $w_j(t)$ é o peso da j-ésima conexão de entrada no instante de tempo t, $\\eta$ é uma taxa de aprendizado, $x_i^j$ é o valor do j-ésimo atributo do vetor de entrada $x_i$, $\\hat{f}(x_i)$ é a saída produzida pela rede no instante de tempo $t$ e $y_i$ é a saída desejada para a rede (o rótulo de $x_i$). O valor da taxa de apendizada define a magnitude dos ajustes dos pesos. Valores altos fazem com que as variações sejam grandes, enquanto taxas pequenas implicam em poucas variações nos pesos. Essa magnitude influencia a velocidade de convergência. \n",
    "\n",
    "O algoritmo a seguir mostra o processo de treinamento da rede perceptron.\n",
    "\n",
    "<img src=\"https://dl.dropboxusercontent.com/u/25405260/d2l/material_ia/redesneurais_algperceptron.png\">\n",
    "\n",
    "### Atividade: \n",
    "\n",
    "Pesquisa sobre a rede neura Adeline e pontue as principais diferenças com a redes neurais perceptron. "
   ]
  },
  {
   "cell_type": "markdown",
   "metadata": {},
   "source": [
    "## O problema de redes com uma camada\n",
    "\n",
    "\"Uma limitação das redes neurais de uma comada, como as redes perceptron e adaline, é que elas conseguem classificar apenas objetos que são linearmente separáveis\".\n",
    "\n",
    "Supondo que tenhamos uma base de dados com dois atributos. Se plotarmos estes dados em um plano cartesiano, eles vão ser linearmente separáveis se existe uma reta que separa os objetos de uma classe dos objetos de outra classe. \n",
    "\n",
    "<img src=\"http://2.bp.blogspot.com/_NpEM479W8bw/SMAykBAnOUI/AAAAAAAAADE/qmpAY4AoyDo/s320/Linear.PNG\">\n",
    "<img src=\"http://4.bp.blogspot.com/_NpEM479W8bw/SMAykRqIgYI/AAAAAAAAADM/35mfeqXHi4k/s320/Non+Linear.PNG\">\n",
    "\n",
    "Se em vez de dois atributos a base possui $d$ atributos, o espaço de soluções será $d$-dimensional. Neste caso, os objetos são linearmente separáveis se houver um hiperplano que separe os dados das duas classes.\n",
    "\n",
    "\n",
    "## Implementado a rede neural Perceptron\n",
    "\n",
    "Vamos ver um exemplo simples de aplicação da rede neural perceptron:\n",
    "\n",
    "*Fonte: [http://stamfordresearch.com/python-perceptron-re-visited/](http://stamfordresearch.com/python-perceptron-re-visited/)*\n"
   ]
  },
  {
   "cell_type": "code",
   "execution_count": 1,
   "metadata": {
    "collapsed": true
   },
   "outputs": [],
   "source": [
    "# Load the libraries you will need\n",
    "import numpy as np\n",
    "import matplotlib.pyplot as plt\n",
    "\n",
    "from sklearn.linear_model import perceptron\n",
    "from pandas import *\n",
    "\n",
    "# You only need this if using Notebook\n",
    "%matplotlib inline"
   ]
  },
  {
   "cell_type": "code",
   "execution_count": 3,
   "metadata": {
    "collapsed": false
   },
   "outputs": [
    {
     "data": {
      "text/html": [
       "<div>\n",
       "<table border=\"1\" class=\"dataframe\">\n",
       "  <thead>\n",
       "    <tr style=\"text-align: right;\">\n",
       "      <th></th>\n",
       "      <th>A</th>\n",
       "      <th>B</th>\n",
       "      <th>Targets</th>\n",
       "    </tr>\n",
       "  </thead>\n",
       "  <tbody>\n",
       "    <tr>\n",
       "      <th>0</th>\n",
       "      <td>2</td>\n",
       "      <td>2</td>\n",
       "      <td>0</td>\n",
       "    </tr>\n",
       "    <tr>\n",
       "      <th>1</th>\n",
       "      <td>1</td>\n",
       "      <td>3</td>\n",
       "      <td>0</td>\n",
       "    </tr>\n",
       "    <tr>\n",
       "      <th>2</th>\n",
       "      <td>2</td>\n",
       "      <td>3</td>\n",
       "      <td>0</td>\n",
       "    </tr>\n",
       "    <tr>\n",
       "      <th>3</th>\n",
       "      <td>5</td>\n",
       "      <td>3</td>\n",
       "      <td>1</td>\n",
       "    </tr>\n",
       "    <tr>\n",
       "      <th>4</th>\n",
       "      <td>7</td>\n",
       "      <td>3</td>\n",
       "      <td>1</td>\n",
       "    </tr>\n",
       "    <tr>\n",
       "      <th>5</th>\n",
       "      <td>2</td>\n",
       "      <td>4</td>\n",
       "      <td>0</td>\n",
       "    </tr>\n",
       "    <tr>\n",
       "      <th>6</th>\n",
       "      <td>3</td>\n",
       "      <td>4</td>\n",
       "      <td>0</td>\n",
       "    </tr>\n",
       "    <tr>\n",
       "      <th>7</th>\n",
       "      <td>6</td>\n",
       "      <td>4</td>\n",
       "      <td>1</td>\n",
       "    </tr>\n",
       "    <tr>\n",
       "      <th>8</th>\n",
       "      <td>1</td>\n",
       "      <td>5</td>\n",
       "      <td>0</td>\n",
       "    </tr>\n",
       "    <tr>\n",
       "      <th>9</th>\n",
       "      <td>2</td>\n",
       "      <td>5</td>\n",
       "      <td>0</td>\n",
       "    </tr>\n",
       "    <tr>\n",
       "      <th>10</th>\n",
       "      <td>5</td>\n",
       "      <td>5</td>\n",
       "      <td>1</td>\n",
       "    </tr>\n",
       "    <tr>\n",
       "      <th>11</th>\n",
       "      <td>4</td>\n",
       "      <td>6</td>\n",
       "      <td>1</td>\n",
       "    </tr>\n",
       "    <tr>\n",
       "      <th>12</th>\n",
       "      <td>6</td>\n",
       "      <td>6</td>\n",
       "      <td>1</td>\n",
       "    </tr>\n",
       "    <tr>\n",
       "      <th>13</th>\n",
       "      <td>5</td>\n",
       "      <td>7</td>\n",
       "      <td>1</td>\n",
       "    </tr>\n",
       "  </tbody>\n",
       "</table>\n",
       "</div>"
      ],
      "text/plain": [
       "    A  B  Targets\n",
       "0   2  2        0\n",
       "1   1  3        0\n",
       "2   2  3        0\n",
       "3   5  3        1\n",
       "4   7  3        1\n",
       "5   2  4        0\n",
       "6   3  4        0\n",
       "7   6  4        1\n",
       "8   1  5        0\n",
       "9   2  5        0\n",
       "10  5  5        1\n",
       "11  4  6        1\n",
       "12  6  6        1\n",
       "13  5  7        1"
      ]
     },
     "execution_count": 3,
     "metadata": {},
     "output_type": "execute_result"
    }
   ],
   "source": [
    "# Put some data into a dataframe\n",
    "inputs = DataFrame({\n",
    "'A' : [2, 1, 2, 5, 7, 2, 3, 6, 1, 2, 5, 4, 6, 5],\n",
    "'B' : [2, 3, 3, 3, 3, 4, 4, 4, 5, 5, 5, 6, 6, 7],\n",
    "'Targets' : [0, 0, 0, 1, 1, 0, 0, 1, 0, 0, 1, 1, 1, 1]\n",
    "})\n",
    "\n",
    "inputs"
   ]
  },
  {
   "cell_type": "code",
   "execution_count": 4,
   "metadata": {
    "collapsed": false
   },
   "outputs": [
    {
     "data": {
      "text/plain": [
       "<matplotlib.collections.PathCollection at 0x1131de4d0>"
      ]
     },
     "execution_count": 4,
     "metadata": {},
     "output_type": "execute_result"
    },
    {
     "data": {
      "image/png": "[encoded data removed]",
      "text/plain": [
       "<matplotlib.figure.Figure at 0x10e3de890>"
      ]
     },
     "metadata": {},
     "output_type": "display_data"
    }
   ],
   "source": [
    "# Set an array of colours, we could call it\n",
    "# anything but here we call is colormap\n",
    "# It sounds more awesome\n",
    "colormap = np.array(['r', 'k'])\n",
    "\n",
    "# Plot the data, A is x axis, B is y axis\n",
    "# and the colormap is applied based on the Targets\n",
    "plt.scatter(inputs.A, inputs.B, c=colormap[inputs.Targets], s=40)"
   ]
  },
  {
   "cell_type": "code",
   "execution_count": 5,
   "metadata": {
    "collapsed": false
   },
   "outputs": [
    {
     "data": {
      "text/plain": [
       "Perceptron(alpha=0.0001, class_weight=None, eta0=0.002, fit_intercept=True,\n",
       "      n_iter=100, n_jobs=1, penalty=None, random_state=None, shuffle=True,\n",
       "      verbose=0, warm_start=False)"
      ]
     },
     "execution_count": 5,
     "metadata": {},
     "output_type": "execute_result"
    }
   ],
   "source": [
    "# Create the perceptron object (net)\n",
    "net = perceptron.Perceptron(n_iter=100, verbose=0, random_state=None, fit_intercept=True, eta0=0.002)\n",
    "\n",
    "# Train the perceptron object (net)\n",
    "net.fit(inputs[['A', 'B']],inputs['Targets'])"
   ]
  },
  {
   "cell_type": "code",
   "execution_count": 6,
   "metadata": {
    "collapsed": false
   },
   "outputs": [
    {
     "name": "stdout",
     "output_type": "stream",
     "text": [
      "Coefficient 0 0.03\n",
      "Coefficient 1 -0.012\n",
      "Bias [-0.046]\n"
     ]
    }
   ],
   "source": [
    "# Output the coefficints\n",
    "print \"Coefficient 0 \" + str(net.coef_[0,0])\n",
    "print \"Coefficient 1 \" + str(net.coef_[0,1])\n",
    "print \"Bias \" + str(net.intercept_)"
   ]
  },
  {
   "cell_type": "code",
   "execution_count": 7,
   "metadata": {
    "collapsed": false
   },
   "outputs": [
    {
     "data": {
      "text/plain": [
       "(0, 8)"
      ]
     },
     "execution_count": 7,
     "metadata": {},
     "output_type": "execute_result"
    },
    {
     "data": {
      "image/png": "[encoded data removed]",
      "text/plain": [
       "<matplotlib.figure.Figure at 0x113240f10>"
      ]
     },
     "metadata": {},
     "output_type": "display_data"
    }
   ],
   "source": [
    "# Plot the original data\n",
    "plt.scatter(inputs.A, inputs.B, c=colormap[inputs.Targets], s=40)\n",
    " \n",
    "# Calc the hyperplane (decision boundary)\n",
    "ymin, ymax = plt.ylim()\n",
    "w = net.coef_[0]\n",
    "a = -w[0] / w[1]\n",
    "xx = np.linspace(ymin, ymax)\n",
    "yy = a * xx - (net.intercept_[0]) / w[1]\n",
    " \n",
    "# Plot the hyperplane\n",
    "plt.plot(xx,yy, 'k-')\n",
    "plt.ylim([0,8]) # Limit the y axis size"
   ]
  },
  {
   "cell_type": "code",
   "execution_count": 14,
   "metadata": {
    "collapsed": false
   },
   "outputs": [
    {
     "name": "stdout",
     "output_type": "stream",
     "text": [
      "[0 0 0 1 1 0 0 1 0 0 1 1 1 1]\n"
     ]
    },
    {
     "data": {
      "text/plain": [
       "array([[7, 0],\n",
       "       [0, 7]])"
      ]
     },
     "execution_count": 14,
     "metadata": {},
     "output_type": "execute_result"
    }
   ],
   "source": [
    "from sklearn.metrics import confusion_matrix\n",
    "\n",
    "# Do a prediction\n",
    "pred = net.predict(inputs[['A','B']])\n",
    "print pred\n",
    "\n",
    "# Confusion Matrix\n",
    "confusion_matrix(pred, inputs['Targets'])"
   ]
  },
  {
   "cell_type": "markdown",
   "metadata": {},
   "source": [
    "### Atividade\n",
    "\n",
    "Aplique a rede neural perceptron, plote os dados no gráfico e analise os resultados da matriz de confusão. "
   ]
  },
  {
   "cell_type": "code",
   "execution_count": 15,
   "metadata": {
    "collapsed": false
   },
   "outputs": [
    {
     "data": {
      "text/html": [
       "<div>\n",
       "<table border=\"1\" class=\"dataframe\">\n",
       "  <thead>\n",
       "    <tr style=\"text-align: right;\">\n",
       "      <th></th>\n",
       "      <th>A</th>\n",
       "      <th>B</th>\n",
       "      <th>Targets</th>\n",
       "    </tr>\n",
       "  </thead>\n",
       "  <tbody>\n",
       "    <tr>\n",
       "      <th>0</th>\n",
       "      <td>1</td>\n",
       "      <td>1</td>\n",
       "      <td>0</td>\n",
       "    </tr>\n",
       "    <tr>\n",
       "      <th>1</th>\n",
       "      <td>1</td>\n",
       "      <td>2</td>\n",
       "      <td>0</td>\n",
       "    </tr>\n",
       "    <tr>\n",
       "      <th>2</th>\n",
       "      <td>1</td>\n",
       "      <td>3</td>\n",
       "      <td>0</td>\n",
       "    </tr>\n",
       "    <tr>\n",
       "      <th>3</th>\n",
       "      <td>1</td>\n",
       "      <td>4</td>\n",
       "      <td>0</td>\n",
       "    </tr>\n",
       "    <tr>\n",
       "      <th>4</th>\n",
       "      <td>2</td>\n",
       "      <td>1</td>\n",
       "      <td>0</td>\n",
       "    </tr>\n",
       "    <tr>\n",
       "      <th>5</th>\n",
       "      <td>2</td>\n",
       "      <td>2</td>\n",
       "      <td>0</td>\n",
       "    </tr>\n",
       "    <tr>\n",
       "      <th>6</th>\n",
       "      <td>2</td>\n",
       "      <td>3</td>\n",
       "      <td>0</td>\n",
       "    </tr>\n",
       "    <tr>\n",
       "      <th>7</th>\n",
       "      <td>2</td>\n",
       "      <td>4</td>\n",
       "      <td>0</td>\n",
       "    </tr>\n",
       "    <tr>\n",
       "      <th>8</th>\n",
       "      <td>3</td>\n",
       "      <td>1</td>\n",
       "      <td>1</td>\n",
       "    </tr>\n",
       "    <tr>\n",
       "      <th>9</th>\n",
       "      <td>3</td>\n",
       "      <td>2</td>\n",
       "      <td>1</td>\n",
       "    </tr>\n",
       "    <tr>\n",
       "      <th>10</th>\n",
       "      <td>3</td>\n",
       "      <td>3</td>\n",
       "      <td>0</td>\n",
       "    </tr>\n",
       "    <tr>\n",
       "      <th>11</th>\n",
       "      <td>3</td>\n",
       "      <td>4</td>\n",
       "      <td>0</td>\n",
       "    </tr>\n",
       "    <tr>\n",
       "      <th>12</th>\n",
       "      <td>4</td>\n",
       "      <td>1</td>\n",
       "      <td>1</td>\n",
       "    </tr>\n",
       "    <tr>\n",
       "      <th>13</th>\n",
       "      <td>4</td>\n",
       "      <td>2</td>\n",
       "      <td>1</td>\n",
       "    </tr>\n",
       "    <tr>\n",
       "      <th>14</th>\n",
       "      <td>4</td>\n",
       "      <td>3</td>\n",
       "      <td>1</td>\n",
       "    </tr>\n",
       "    <tr>\n",
       "      <th>15</th>\n",
       "      <td>4</td>\n",
       "      <td>4</td>\n",
       "      <td>0</td>\n",
       "    </tr>\n",
       "    <tr>\n",
       "      <th>16</th>\n",
       "      <td>5</td>\n",
       "      <td>1</td>\n",
       "      <td>1</td>\n",
       "    </tr>\n",
       "    <tr>\n",
       "      <th>17</th>\n",
       "      <td>5</td>\n",
       "      <td>2</td>\n",
       "      <td>1</td>\n",
       "    </tr>\n",
       "    <tr>\n",
       "      <th>18</th>\n",
       "      <td>5</td>\n",
       "      <td>3</td>\n",
       "      <td>1</td>\n",
       "    </tr>\n",
       "    <tr>\n",
       "      <th>19</th>\n",
       "      <td>5</td>\n",
       "      <td>4</td>\n",
       "      <td>1</td>\n",
       "    </tr>\n",
       "  </tbody>\n",
       "</table>\n",
       "</div>"
      ],
      "text/plain": [
       "    A  B  Targets\n",
       "0   1  1        0\n",
       "1   1  2        0\n",
       "2   1  3        0\n",
       "3   1  4        0\n",
       "4   2  1        0\n",
       "5   2  2        0\n",
       "6   2  3        0\n",
       "7   2  4        0\n",
       "8   3  1        1\n",
       "9   3  2        1\n",
       "10  3  3        0\n",
       "11  3  4        0\n",
       "12  4  1        1\n",
       "13  4  2        1\n",
       "14  4  3        1\n",
       "15  4  4        0\n",
       "16  5  1        1\n",
       "17  5  2        1\n",
       "18  5  3        1\n",
       "19  5  4        1"
      ]
     },
     "execution_count": 15,
     "metadata": {},
     "output_type": "execute_result"
    }
   ],
   "source": [
    "# Different Data\n",
    "inputs = DataFrame({\n",
    "'A' :       [1,1,1,1,2,2,2,2,3,3,3,3,4,4,4,4,5,5,5,5],\n",
    "'B' :       [1,2,3,4,1,2,3,4,1,2,3,4,1,2,3,4,1,2,3,4],\n",
    "'Targets' : [0,0,0,0,0,0,0,0,1,1,0,0,1,1,1,0,1,1,1,1]\n",
    "})\n",
    " \n",
    "inputs"
   ]
  },
  {
   "cell_type": "code",
   "execution_count": 16,
   "metadata": {
    "collapsed": false
   },
   "outputs": [
    {
     "data": {
      "text/plain": [
       "<matplotlib.collections.PathCollection at 0x11352f510>"
      ]
     },
     "execution_count": 16,
     "metadata": {},
     "output_type": "execute_result"
    },
    {
     "data": {
      "image/png": "[encoded data removed]",
      "text/plain": [
       "<matplotlib.figure.Figure at 0x113463e10>"
      ]
     },
     "metadata": {},
     "output_type": "display_data"
    }
   ],
   "source": [
    "# Set an array of colours, we could call it\n",
    "# anything but here we call is colormap\n",
    "# It sounds more awesome\n",
    "colormap = np.array(['r', 'k'])\n",
    "\n",
    "# Plot the data, A is x axis, B is y axis\n",
    "# and the colormap is applied based on the Targets\n",
    "plt.scatter(inputs.A, inputs.B, c=colormap[inputs.Targets], s=40)"
   ]
  },
  {
   "cell_type": "code",
   "execution_count": 17,
   "metadata": {
    "collapsed": false
   },
   "outputs": [
    {
     "data": {
      "text/plain": [
       "Perceptron(alpha=0.0001, class_weight=None, eta0=0.002, fit_intercept=True,\n",
       "      n_iter=100, n_jobs=1, penalty=None, random_state=None, shuffle=True,\n",
       "      verbose=0, warm_start=False)"
      ]
     },
     "execution_count": 17,
     "metadata": {},
     "output_type": "execute_result"
    }
   ],
   "source": [
    "# Create the perceptron object (net)\n",
    "net = perceptron.Perceptron(n_iter=100, verbose=0, random_state=None, fit_intercept=True, eta0=0.002)\n",
    "\n",
    "# Train the perceptron object (net)\n",
    "net.fit(inputs[['A', 'B']],inputs['Targets'])"
   ]
  },
  {
   "cell_type": "code",
   "execution_count": 20,
   "metadata": {
    "collapsed": false
   },
   "outputs": [
    {
     "data": {
      "text/plain": [
       "(0, 5)"
      ]
     },
     "execution_count": 20,
     "metadata": {},
     "output_type": "execute_result"
    },
    {
     "data": {
      "image/png": "[encoded data removed]",
      "text/plain": [
       "<matplotlib.figure.Figure at 0x11327b250>"
      ]
     },
     "metadata": {},
     "output_type": "display_data"
    }
   ],
   "source": [
    "# Plot the original data\n",
    "plt.scatter(inputs.A, inputs.B, c=colormap[inputs.Targets], s=40)\n",
    " \n",
    "# Calc the hyperplane (decision boundary)\n",
    "ymin, ymax = plt.ylim()\n",
    "w = net.coef_[0]\n",
    "a = -w[0] / w[1]\n",
    "xx = np.linspace(ymin, ymax)\n",
    "yy = a * xx - (net.intercept_[0]) / w[1]\n",
    " \n",
    "# Plot the hyperplane\n",
    "plt.plot(xx,yy, 'k-')\n",
    "plt.ylim([0,5]) # Limit the y axis size"
   ]
  },
  {
   "cell_type": "code",
   "execution_count": 21,
   "metadata": {
    "collapsed": false
   },
   "outputs": [
    {
     "name": "stdout",
     "output_type": "stream",
     "text": [
      "[0 0 0 0 0 0 0 0 1 1 0 0 1 1 1 0 1 1 1 1]\n"
     ]
    },
    {
     "data": {
      "text/plain": [
       "array([[11,  0],\n",
       "       [ 0,  9]])"
      ]
     },
     "execution_count": 21,
     "metadata": {},
     "output_type": "execute_result"
    }
   ],
   "source": [
    "from sklearn.metrics import confusion_matrix\n",
    "\n",
    "# Do a prediction\n",
    "pred = net.predict(inputs[['A','B']])\n",
    "print pred\n",
    "\n",
    "# Confusion Matrix\n",
    "confusion_matrix(pred, inputs['Targets'])"
   ]
  },
  {
   "cell_type": "markdown",
   "metadata": {},
   "source": [
    "## Mais um exemplo\n",
    "\n",
    "Vamos utilizar alguns dados mais complexos. Para isso vamos ver como se comporta a rede neural perceptron na base de dados: [http://archive.ics.uci.edu/ml/datasets/Breast+Cancer+Wisconsin+%28Diagnostic%29](http://archive.ics.uci.edu/ml/datasets/Breast+Cancer+Wisconsin+%28Diagnostic%29)"
   ]
  },
  {
   "cell_type": "code",
   "execution_count": 24,
   "metadata": {
    "collapsed": false
   },
   "outputs": [
    {
     "data": {
      "text/html": [
       "<div>\n",
       "<table border=\"1\" class=\"dataframe\">\n",
       "  <thead>\n",
       "    <tr style=\"text-align: right;\">\n",
       "      <th></th>\n",
       "      <th>Id</th>\n",
       "      <th>ClumpThickness</th>\n",
       "      <th>CellSize</th>\n",
       "      <th>CellShape</th>\n",
       "      <th>MarginalAdhesion</th>\n",
       "      <th>SingleEpithelialCellSize</th>\n",
       "      <th>BareNuclei</th>\n",
       "      <th>BlandChromatin</th>\n",
       "      <th>NormalNucleoli</th>\n",
       "      <th>Mitoses</th>\n",
       "      <th>Class</th>\n",
       "    </tr>\n",
       "  </thead>\n",
       "  <tbody>\n",
       "    <tr>\n",
       "      <th>0</th>\n",
       "      <td>1000025</td>\n",
       "      <td>5</td>\n",
       "      <td>1</td>\n",
       "      <td>1</td>\n",
       "      <td>1</td>\n",
       "      <td>2</td>\n",
       "      <td>1</td>\n",
       "      <td>3</td>\n",
       "      <td>1</td>\n",
       "      <td>1</td>\n",
       "      <td>2</td>\n",
       "    </tr>\n",
       "    <tr>\n",
       "      <th>1</th>\n",
       "      <td>1002945</td>\n",
       "      <td>5</td>\n",
       "      <td>4</td>\n",
       "      <td>4</td>\n",
       "      <td>5</td>\n",
       "      <td>7</td>\n",
       "      <td>10</td>\n",
       "      <td>3</td>\n",
       "      <td>2</td>\n",
       "      <td>1</td>\n",
       "      <td>2</td>\n",
       "    </tr>\n",
       "    <tr>\n",
       "      <th>2</th>\n",
       "      <td>1015425</td>\n",
       "      <td>3</td>\n",
       "      <td>1</td>\n",
       "      <td>1</td>\n",
       "      <td>1</td>\n",
       "      <td>2</td>\n",
       "      <td>2</td>\n",
       "      <td>3</td>\n",
       "      <td>1</td>\n",
       "      <td>1</td>\n",
       "      <td>2</td>\n",
       "    </tr>\n",
       "    <tr>\n",
       "      <th>3</th>\n",
       "      <td>1016277</td>\n",
       "      <td>6</td>\n",
       "      <td>8</td>\n",
       "      <td>8</td>\n",
       "      <td>1</td>\n",
       "      <td>3</td>\n",
       "      <td>4</td>\n",
       "      <td>3</td>\n",
       "      <td>7</td>\n",
       "      <td>1</td>\n",
       "      <td>2</td>\n",
       "    </tr>\n",
       "    <tr>\n",
       "      <th>4</th>\n",
       "      <td>1017023</td>\n",
       "      <td>4</td>\n",
       "      <td>1</td>\n",
       "      <td>1</td>\n",
       "      <td>3</td>\n",
       "      <td>2</td>\n",
       "      <td>1</td>\n",
       "      <td>3</td>\n",
       "      <td>1</td>\n",
       "      <td>1</td>\n",
       "      <td>2</td>\n",
       "    </tr>\n",
       "  </tbody>\n",
       "</table>\n",
       "</div>"
      ],
      "text/plain": [
       "        Id  ClumpThickness  CellSize  CellShape  MarginalAdhesion  \\\n",
       "0  1000025               5         1          1                 1   \n",
       "1  1002945               5         4          4                 5   \n",
       "2  1015425               3         1          1                 1   \n",
       "3  1016277               6         8          8                 1   \n",
       "4  1017023               4         1          1                 3   \n",
       "\n",
       "   SingleEpithelialCellSize BareNuclei  BlandChromatin  NormalNucleoli  \\\n",
       "0                         2          1               3               1   \n",
       "1                         7         10               3               2   \n",
       "2                         2          2               3               1   \n",
       "3                         3          4               3               7   \n",
       "4                         2          1               3               1   \n",
       "\n",
       "   Mitoses  Class  \n",
       "0        1      2  \n",
       "1        1      2  \n",
       "2        1      2  \n",
       "3        1      2  \n",
       "4        1      2  "
      ]
     },
     "execution_count": 24,
     "metadata": {},
     "output_type": "execute_result"
    }
   ],
   "source": [
    "data = pandas.read_csv('http://archive.ics.uci.edu/ml/machine-learning-databases/breast-cancer-wisconsin/breast-cancer-wisconsin.data',\n",
    "                   sep=\",\",\n",
    "                   header=None,\n",
    "                  names=[\"Id\",\"ClumpThickness\",\"CellSize\",\"CellShape\",\"MarginalAdhesion\",\"SingleEpithelialCellSize\",\n",
    "                        \"BareNuclei\",\"BlandChromatin\",\"NormalNucleoli\",\"Mitoses\",\"Class\"])\n",
    "data.head()"
   ]
  },
  {
   "cell_type": "markdown",
   "metadata": {},
   "source": [
    "# Atividade: \n",
    "\n",
    "Treine um modelo baseado em redes neurais e calcule a acurácia do modelo utilizando validação cruzada de 10 folds."
   ]
  }
 ],
 "metadata": {
  "kernelspec": {
   "display_name": "Python 2",
   "language": "python",
   "name": "python2"
  },
  "language_info": {
   "codemirror_mode": {
    "name": "ipython",
    "version": 2
   },
   "file_extension": ".py",
   "mimetype": "text/x-python",
   "name": "python",
   "nbconvert_exporter": "python",
   "pygments_lexer": "ipython2",
   "version": "2.7.10"
  }
 },
 "nbformat": 4,
 "nbformat_minor": 1
}
